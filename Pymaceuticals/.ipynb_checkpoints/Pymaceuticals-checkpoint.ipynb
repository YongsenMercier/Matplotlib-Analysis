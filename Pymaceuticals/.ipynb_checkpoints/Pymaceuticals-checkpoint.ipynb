{
 "cells": [
  {
   "cell_type": "code",
   "execution_count": 1,
   "metadata": {},
   "outputs": [],
   "source": [
    "# this my analysis of the homework.\n",
    "# My first observation is that comparing all the drug regiment, the 4 most successful are: Ramicane, Capomulin, Ceftamin, and Infubinol.\n",
    "# My second observation: Capomulin and Ramicane have the MOST mouse test subjects. That means, since they have the most data, their analysis\n",
    "# are probably more accurate compared to the rest. The more plentiful the data in the dataset would corelate to more accurate analysis.\n",
    "# My third observation: There are about equal number of Female and Male mice participants in this experiment. That makes this experiment more accurate, \n",
    "# because tumor growth might be different among different gender. And drug regiments might affect gender differently. Since the number of gender are equal\n",
    "# it makes me believe that this experiment was conducted with accuracy in mind.\n",
    "# My fourth observation: when comparing the quartiles ranges and interquartiles ranges, the two drugs that are the most succesful are: Ramicane and Capomulin.\n",
    "# but when comparing different tumor volume for DIFFERENT mice taking the same drug regiment: not all the mice have reduced tumor size at the end of their timepoint.\n",
    "\n"
   ]
  },
  {
   "cell_type": "code",
   "execution_count": 2,
   "metadata": {},
   "outputs": [],
   "source": [
    "%matplotlib inline\n",
    "\n",
    "# importing all the dependencies\n",
    "import pandas as pd\n",
    "import matplotlib.pyplot as plt\n",
    "import numpy as np\n",
    "import scipy.stats as st"
   ]
  },
  {
   "cell_type": "code",
   "execution_count": 3,
   "metadata": {},
   "outputs": [],
   "source": [
    "# importing data files\n",
    "mouse_data = \"data/Mouse_metadata.csv\"\n",
    "study_data = \"data/Study_results.csv\"\n",
    "\n",
    "# Read the data\n",
    "mousedata = pd.read_csv(mouse_data)\n",
    "studyresults = pd.read_csv(study_data)"
   ]
  },
  {
   "cell_type": "code",
   "execution_count": 4,
   "metadata": {},
   "outputs": [],
   "source": [
    "#merging the two DF into one. Merging with full outer join, based on the \"Mouse ID\"\n",
    "total_data_df = pd.merge(mousedata, studyresults, how = \"outer\", on = \"Mouse ID\")"
   ]
  },
  {
   "cell_type": "code",
   "execution_count": 5,
   "metadata": {},
   "outputs": [
    {
     "data": {
      "text/html": [
       "<div>\n",
       "<style scoped>\n",
       "    .dataframe tbody tr th:only-of-type {\n",
       "        vertical-align: middle;\n",
       "    }\n",
       "\n",
       "    .dataframe tbody tr th {\n",
       "        vertical-align: top;\n",
       "    }\n",
       "\n",
       "    .dataframe thead th {\n",
       "        text-align: right;\n",
       "    }\n",
       "</style>\n",
       "<table border=\"1\" class=\"dataframe\">\n",
       "  <thead>\n",
       "    <tr style=\"text-align: right;\">\n",
       "      <th></th>\n",
       "      <th>Mouse ID</th>\n",
       "      <th>Drug Regimen</th>\n",
       "      <th>Sex</th>\n",
       "      <th>Age_months</th>\n",
       "      <th>Weight (g)</th>\n",
       "      <th>Timepoint</th>\n",
       "      <th>Tumor Volume (mm3)</th>\n",
       "      <th>Metastatic Sites</th>\n",
       "    </tr>\n",
       "  </thead>\n",
       "  <tbody>\n",
       "    <tr>\n",
       "      <th>0</th>\n",
       "      <td>k403</td>\n",
       "      <td>Ramicane</td>\n",
       "      <td>Male</td>\n",
       "      <td>21</td>\n",
       "      <td>16</td>\n",
       "      <td>0</td>\n",
       "      <td>45.000000</td>\n",
       "      <td>0</td>\n",
       "    </tr>\n",
       "    <tr>\n",
       "      <th>1</th>\n",
       "      <td>k403</td>\n",
       "      <td>Ramicane</td>\n",
       "      <td>Male</td>\n",
       "      <td>21</td>\n",
       "      <td>16</td>\n",
       "      <td>5</td>\n",
       "      <td>38.825898</td>\n",
       "      <td>0</td>\n",
       "    </tr>\n",
       "    <tr>\n",
       "      <th>2</th>\n",
       "      <td>k403</td>\n",
       "      <td>Ramicane</td>\n",
       "      <td>Male</td>\n",
       "      <td>21</td>\n",
       "      <td>16</td>\n",
       "      <td>10</td>\n",
       "      <td>35.014271</td>\n",
       "      <td>1</td>\n",
       "    </tr>\n",
       "    <tr>\n",
       "      <th>3</th>\n",
       "      <td>k403</td>\n",
       "      <td>Ramicane</td>\n",
       "      <td>Male</td>\n",
       "      <td>21</td>\n",
       "      <td>16</td>\n",
       "      <td>15</td>\n",
       "      <td>34.223992</td>\n",
       "      <td>1</td>\n",
       "    </tr>\n",
       "    <tr>\n",
       "      <th>4</th>\n",
       "      <td>k403</td>\n",
       "      <td>Ramicane</td>\n",
       "      <td>Male</td>\n",
       "      <td>21</td>\n",
       "      <td>16</td>\n",
       "      <td>20</td>\n",
       "      <td>32.997729</td>\n",
       "      <td>1</td>\n",
       "    </tr>\n",
       "  </tbody>\n",
       "</table>\n",
       "</div>"
      ],
      "text/plain": [
       "  Mouse ID Drug Regimen   Sex  Age_months  Weight (g)  Timepoint  \\\n",
       "0     k403     Ramicane  Male          21          16          0   \n",
       "1     k403     Ramicane  Male          21          16          5   \n",
       "2     k403     Ramicane  Male          21          16         10   \n",
       "3     k403     Ramicane  Male          21          16         15   \n",
       "4     k403     Ramicane  Male          21          16         20   \n",
       "\n",
       "   Tumor Volume (mm3)  Metastatic Sites  \n",
       "0           45.000000                 0  \n",
       "1           38.825898                 0  \n",
       "2           35.014271                 1  \n",
       "3           34.223992                 1  \n",
       "4           32.997729                 1  "
      ]
     },
     "execution_count": 5,
     "metadata": {},
     "output_type": "execute_result"
    }
   ],
   "source": [
    "total_data_df.head()"
   ]
  },
  {
   "cell_type": "code",
   "execution_count": 6,
   "metadata": {},
   "outputs": [
    {
     "name": "stdout",
     "output_type": "stream",
     "text": [
      "There are 249 unique mice in this Drug Regiment experiment\n"
     ]
    }
   ],
   "source": [
    "#counting the number of unique mouse\n",
    "mouse_count = len(total_data_df[\"Mouse ID\"].unique())\n",
    "#print the number of unique mice:\n",
    "print(f\"There are {mouse_count} unique mice in this Drug Regiment experiment\")"
   ]
  },
  {
   "cell_type": "code",
   "execution_count": 7,
   "metadata": {},
   "outputs": [],
   "source": [
    "#dropping the duplicate of any mouse with timepoint\n",
    "total_data_df.drop_duplicates(subset=[\"Mouse ID\", \"Timepoint\"], inplace = True)"
   ]
  },
  {
   "cell_type": "code",
   "execution_count": 8,
   "metadata": {},
   "outputs": [],
   "source": [
    "# lets do a groupby by \"Drug Regimen\"\n",
    "#then we can aggregate the mean, meadian, variance, standard deviation, and sem(standard error of mean)\n",
    "drug_regimen_stats_df = total_data_df.groupby([\"Drug Regimen\"])[\"Tumor Volume (mm3)\"].agg([\"mean\", \"median\", \"var\", \"std\", \"sem\"])"
   ]
  },
  {
   "cell_type": "code",
   "execution_count": 9,
   "metadata": {},
   "outputs": [
    {
     "data": {
      "text/html": [
       "<div>\n",
       "<style scoped>\n",
       "    .dataframe tbody tr th:only-of-type {\n",
       "        vertical-align: middle;\n",
       "    }\n",
       "\n",
       "    .dataframe tbody tr th {\n",
       "        vertical-align: top;\n",
       "    }\n",
       "\n",
       "    .dataframe thead th {\n",
       "        text-align: right;\n",
       "    }\n",
       "</style>\n",
       "<table border=\"1\" class=\"dataframe\">\n",
       "  <thead>\n",
       "    <tr style=\"text-align: right;\">\n",
       "      <th></th>\n",
       "      <th>Mean</th>\n",
       "      <th>Median</th>\n",
       "      <th>Variance</th>\n",
       "      <th>Standard Deviation</th>\n",
       "      <th>Standard Error of Mean</th>\n",
       "    </tr>\n",
       "    <tr>\n",
       "      <th>Drug Regimen</th>\n",
       "      <th></th>\n",
       "      <th></th>\n",
       "      <th></th>\n",
       "      <th></th>\n",
       "      <th></th>\n",
       "    </tr>\n",
       "  </thead>\n",
       "  <tbody>\n",
       "    <tr>\n",
       "      <th>Capomulin</th>\n",
       "      <td>40.675741</td>\n",
       "      <td>41.557809</td>\n",
       "      <td>24.947764</td>\n",
       "      <td>4.994774</td>\n",
       "      <td>0.329346</td>\n",
       "    </tr>\n",
       "    <tr>\n",
       "      <th>Ceftamin</th>\n",
       "      <td>52.591172</td>\n",
       "      <td>51.776157</td>\n",
       "      <td>39.290177</td>\n",
       "      <td>6.268188</td>\n",
       "      <td>0.469821</td>\n",
       "    </tr>\n",
       "    <tr>\n",
       "      <th>Infubinol</th>\n",
       "      <td>52.884795</td>\n",
       "      <td>51.820584</td>\n",
       "      <td>43.128684</td>\n",
       "      <td>6.567243</td>\n",
       "      <td>0.492236</td>\n",
       "    </tr>\n",
       "    <tr>\n",
       "      <th>Ketapril</th>\n",
       "      <td>55.235638</td>\n",
       "      <td>53.698743</td>\n",
       "      <td>68.553577</td>\n",
       "      <td>8.279709</td>\n",
       "      <td>0.603860</td>\n",
       "    </tr>\n",
       "    <tr>\n",
       "      <th>Naftisol</th>\n",
       "      <td>54.331565</td>\n",
       "      <td>52.509285</td>\n",
       "      <td>66.173479</td>\n",
       "      <td>8.134708</td>\n",
       "      <td>0.596466</td>\n",
       "    </tr>\n",
       "    <tr>\n",
       "      <th>Placebo</th>\n",
       "      <td>54.033581</td>\n",
       "      <td>52.288934</td>\n",
       "      <td>61.168083</td>\n",
       "      <td>7.821003</td>\n",
       "      <td>0.581331</td>\n",
       "    </tr>\n",
       "    <tr>\n",
       "      <th>Propriva</th>\n",
       "      <td>52.393463</td>\n",
       "      <td>50.909965</td>\n",
       "      <td>43.138803</td>\n",
       "      <td>6.568014</td>\n",
       "      <td>0.525862</td>\n",
       "    </tr>\n",
       "    <tr>\n",
       "      <th>Ramicane</th>\n",
       "      <td>40.216745</td>\n",
       "      <td>40.673236</td>\n",
       "      <td>23.486704</td>\n",
       "      <td>4.846308</td>\n",
       "      <td>0.320955</td>\n",
       "    </tr>\n",
       "    <tr>\n",
       "      <th>Stelasyn</th>\n",
       "      <td>54.233149</td>\n",
       "      <td>52.431737</td>\n",
       "      <td>59.450562</td>\n",
       "      <td>7.710419</td>\n",
       "      <td>0.573111</td>\n",
       "    </tr>\n",
       "    <tr>\n",
       "      <th>Zoniferol</th>\n",
       "      <td>53.236507</td>\n",
       "      <td>51.818479</td>\n",
       "      <td>48.533355</td>\n",
       "      <td>6.966589</td>\n",
       "      <td>0.516398</td>\n",
       "    </tr>\n",
       "  </tbody>\n",
       "</table>\n",
       "</div>"
      ],
      "text/plain": [
       "                   Mean     Median   Variance  Standard Deviation  \\\n",
       "Drug Regimen                                                        \n",
       "Capomulin     40.675741  41.557809  24.947764            4.994774   \n",
       "Ceftamin      52.591172  51.776157  39.290177            6.268188   \n",
       "Infubinol     52.884795  51.820584  43.128684            6.567243   \n",
       "Ketapril      55.235638  53.698743  68.553577            8.279709   \n",
       "Naftisol      54.331565  52.509285  66.173479            8.134708   \n",
       "Placebo       54.033581  52.288934  61.168083            7.821003   \n",
       "Propriva      52.393463  50.909965  43.138803            6.568014   \n",
       "Ramicane      40.216745  40.673236  23.486704            4.846308   \n",
       "Stelasyn      54.233149  52.431737  59.450562            7.710419   \n",
       "Zoniferol     53.236507  51.818479  48.533355            6.966589   \n",
       "\n",
       "              Standard Error of Mean  \n",
       "Drug Regimen                          \n",
       "Capomulin                   0.329346  \n",
       "Ceftamin                    0.469821  \n",
       "Infubinol                   0.492236  \n",
       "Ketapril                    0.603860  \n",
       "Naftisol                    0.596466  \n",
       "Placebo                     0.581331  \n",
       "Propriva                    0.525862  \n",
       "Ramicane                    0.320955  \n",
       "Stelasyn                    0.573111  \n",
       "Zoniferol                   0.516398  "
      ]
     },
     "execution_count": 9,
     "metadata": {},
     "output_type": "execute_result"
    }
   ],
   "source": [
    "#Rename the columns, then print the Drug Regiment Statistics\n",
    "drug_regimen_stats_df.rename(columns={\"mean\":\"Mean\",\"median\":\"Median\", \"var\":\"Variance\", \"std\":\"Standard Deviation\", \"sem\":\"Standard Error of Mean\"}, inplace = True)\n",
    "drug_regimen_stats_df"
   ]
  },
  {
   "cell_type": "code",
   "execution_count": 10,
   "metadata": {},
   "outputs": [],
   "source": [
    "#creating a series that will hold the values: how many mouse are taking the drug regimen\n",
    "drug_regimen_mouse_count = total_data_df.groupby([\"Drug Regimen\"])[\"Mouse ID\"].count()"
   ]
  },
  {
   "cell_type": "code",
   "execution_count": 11,
   "metadata": {},
   "outputs": [
    {
     "data": {
      "text/plain": [
       "(0, 250)"
      ]
     },
     "execution_count": 11,
     "metadata": {},
     "output_type": "execute_result"
    },
    {
     "data": {
      "image/png": "[encoded data removed]",
      "text/plain": [
       "<Figure size 720x360 with 1 Axes>"
      ]
     },
     "metadata": {
      "needs_background": "light"
     },
     "output_type": "display_data"
    }
   ],
   "source": [
    "#now that we have the df, we can use pandas, to plot a bar chart\n",
    "drug_regimen_mouse_count.plot(kind=\"bar\", figsize=(10,5), color = \"blue\")\n",
    "plt.title(\"Number of Mouse per Drug Regimen\")\n",
    "plt.xlabel(\"Drug Regiment\")\n",
    "plt.ylabel(\"Number of Mouse\")\n",
    "plt.xlim(-1,10)\n",
    "plt.ylim(0, 250)\n"
   ]
  },
  {
   "cell_type": "code",
   "execution_count": 12,
   "metadata": {},
   "outputs": [
    {
     "data": {
      "text/plain": [
       "(0, 250)"
      ]
     },
     "execution_count": 12,
     "metadata": {},
     "output_type": "execute_result"
    },
    {
     "data": {
      "image/png": "[encoded data removed]",
      "text/plain": [
       "<Figure size 720x360 with 1 Axes>"
      ]
     },
     "metadata": {
      "needs_background": "light"
     },
     "output_type": "display_data"
    }
   ],
   "source": [
    "#now we have to make the same bar with matplotlib\n",
    "# we can use drug_regimen_mouse_count that we created earlier for the y axis\n",
    "x_axis = np.arange(len(total_data_df[\"Drug Regimen\"].unique()))\n",
    "\n",
    "tick_locations = [x for x in x_axis]\n",
    "plt.figure(figsize=(10,5))\n",
    "plt.bar(x_axis, drug_regimen_mouse_count, color='blue')\n",
    "plt.xticks(tick_locations, total_data_df[\"Drug Regimen\"].sort_values().unique(), rotation=\"vertical\")\n",
    "plt.title(\"Number of Mice per Drug Regimen\")\n",
    "plt.ylabel(\"Number of Mice\")\n",
    "plt.xlabel(\"Drug Regimen\")\n",
    "plt.xlim(-1,10)\n",
    "plt.ylim(0, 250)"
   ]
  },
  {
   "cell_type": "code",
   "execution_count": 13,
   "metadata": {},
   "outputs": [],
   "source": [
    "# to calculate the gender count of the study\n",
    "gender_count = total_data_df[\"Sex\"].value_counts()"
   ]
  },
  {
   "cell_type": "code",
   "execution_count": 14,
   "metadata": {},
   "outputs": [
    {
     "data": {
      "text/plain": [
       "(-1.1053783266922994,\n",
       " 1.1002561107948714,\n",
       " -1.1062424936743749,\n",
       " 1.1032653842934317)"
      ]
     },
     "execution_count": 14,
     "metadata": {},
     "output_type": "execute_result"
    },
    {
     "data": {
      "image/png": "[encoded data removed]",
      "text/plain": [
       "<Figure size 432x288 with 1 Axes>"
      ]
     },
     "metadata": {},
     "output_type": "display_data"
    }
   ],
   "source": [
    "# to plot a pie plot, we can use the same series as data\n",
    "colors = [\"blue\", \"orange\"]\n",
    "gender_count.plot(kind=\"pie\",autopct=\"%1.1f%%\", shadow=True, colors = colors)\n",
    "plt.title(\"Distribution of Mouse Gender\")\n",
    "plt.axis(\"equal\")"
   ]
  },
  {
   "cell_type": "code",
   "execution_count": 15,
   "metadata": {},
   "outputs": [
    {
     "data": {
      "image/png": "[encoded data removed]",
      "text/plain": [
       "<Figure size 432x288 with 1 Axes>"
      ]
     },
     "metadata": {},
     "output_type": "display_data"
    }
   ],
   "source": [
    "#now we can do the same pie with matplotlib\n",
    "\n",
    "# Generate a pie plot showing the distribution of female versus male mice using pyplot\n",
    "gender_list = list(gender_count.index.values)\n",
    "colors = [\"blue\", \"orange\"]\n",
    "plt.pie(gender_count, labels = gender_list, colors = colors, shadow = True, autopct = \"%1.1f%%\", startangle = 0)\n",
    "plt.title(\"Distribution of Mouse Gender\")\n",
    "plt.rcParams['font.size'] = 12\n",
    "plt.axis(\"equal\")\n",
    "plt.ylabel(\"Sex\")\n",
    "plt.show()"
   ]
  },
  {
   "cell_type": "code",
   "execution_count": 16,
   "metadata": {},
   "outputs": [],
   "source": [
    "# Calculate the final tumor volume of each mouse across four of the treatment regimens:\n",
    "# we can use loc to pull ALL data just from the 4 drugs:\n",
    "drugs_list = total_data_df.loc[(total_data_df[\"Drug Regimen\"]==\"Capomulin\") | (total_data_df[\"Drug Regimen\"]==\"Ramicane\") \n",
    "                               | (total_data_df[\"Drug Regimen\"]==\"Infubinol\") | (total_data_df[\"Drug Regimen\"]==\"Ceftamin\")\n",
    "                               \n",
    "                               ,:]\n",
    "\n",
    "#now that we have the dataframe, lets sort values by timepoint, then delete all but the last timepoint\n",
    "drugs_list = drugs_list.sort_values(\"Timepoint\", ascending = False)\n",
    "drugs_list.drop_duplicates(subset=\"Mouse ID\", keep='first', inplace = True)"
   ]
  },
  {
   "cell_type": "code",
   "execution_count": 17,
   "metadata": {},
   "outputs": [],
   "source": [
    "# we can pull just the tumor volume for EACH of the 4 drugs:\n",
    "Capomulin_tumor_volume = drugs_list.loc[(total_data_df[\"Drug Regimen\"]==\"Capomulin\"),\"Tumor Volume (mm3)\"]\n",
    "Ramicane_tumor_volume = drugs_list.loc[(total_data_df[\"Drug Regimen\"]==\"Ramicane\"),\"Tumor Volume (mm3)\"]\n",
    "Infubinol_tumor_volume = drugs_list.loc[(total_data_df[\"Drug Regimen\"]==\"Infubinol\"),\"Tumor Volume (mm3)\"]\n",
    "Ceftamin_tumor_volume = drugs_list.loc[(total_data_df[\"Drug Regimen\"]==\"Ceftamin\"),\"Tumor Volume (mm3)\"]"
   ]
  },
  {
   "cell_type": "code",
   "execution_count": 18,
   "metadata": {},
   "outputs": [
    {
     "name": "stdout",
     "output_type": "stream",
     "text": [
      "---------------------------------\n",
      "The lower quartile of Capomulin is: 32.38\n",
      "The upper quartile of Capomulin is: 40.16\n",
      "The interquartile range of Capomulin is: 7.78\n",
      "The median of Capomulin is: 38.125164399999996 \n",
      "Values below 20.71 could be outliers.\n",
      "Values above 51.83 could be outliers.\n",
      "---------------------------------\n",
      "The lower quartile of Ramicane is: 31.56\n",
      "The upper quartile of Ramicane is: 40.66\n",
      "The interquartile range of Ramicane is: 9.1\n",
      "The median of Ramicane is: 36.56165229 \n",
      "Values below 17.91 could be outliers.\n",
      "Values above 54.31 could be outliers.\n",
      "---------------------------------\n",
      "The lower quartile of Infubinol is: 54.05\n",
      "The upper quartile of Infubinol is: 65.53\n",
      "The interquartile range of Infubinol is: 11.48\n",
      "The median of Infubinol is: 60.16518046 \n",
      "Values below 36.83 could be outliers.\n",
      "Values above 82.75 could be outliers.\n",
      "---------------------------------\n",
      "The lower quartile of Ceftamin is: 48.72\n",
      "The upper quartile of Ceftamin is: 64.3\n",
      "The interquartile range of Ceftamin is: 15.58\n",
      "The median of Ceftamin is: 59.85195552 \n",
      "Values below 25.35 could be outliers.\n",
      "Values above 87.67 could be outliers.\n"
     ]
    }
   ],
   "source": [
    "# okay.... in order to get the quartiles & IQR & potential outliers across all four treatment regimens:\n",
    "# first get a list of the 4 drug's tumor data, then a list of the 4 drug's NAME, then build a for loop to calculate:\n",
    "drug_l = [Capomulin_tumor_volume,Ramicane_tumor_volume,Infubinol_tumor_volume,Ceftamin_tumor_volume]\n",
    "drug_name = [\"Capomulin\",\"Ramicane\",\"Infubinol\",\"Ceftamin\"]\n",
    "x = 0\n",
    "for drug in drug_l:\n",
    "    quartiles = drug.quantile([.25,.5,.75])\n",
    "    lowerq = quartiles[0.25].round(2)\n",
    "    upperq = quartiles[0.75].round(2)\n",
    "    iqr = round(upperq-lowerq,2)\n",
    "    lower_bound = round(lowerq - (1.5*iqr),2)\n",
    "    upper_bound = round(upperq + (1.5*iqr),2)\n",
    "    print(f'---------------------------------')\n",
    "    print(f\"The lower quartile of {drug_name[x]} is: {lowerq}\")\n",
    "    print(f\"The upper quartile of {drug_name[x]} is: {upperq}\")\n",
    "    print(f\"The interquartile range of {drug_name[x]} is: {iqr}\")\n",
    "    print(f\"The median of {drug_name[x]} is: {quartiles[0.5]} \")\n",
    "    print(f\"Values below {lower_bound} could be outliers.\")\n",
    "    print(f\"Values above {upper_bound} could be outliers.\")\n",
    "    x = x+1"
   ]
  },
  {
   "cell_type": "code",
   "execution_count": 19,
   "metadata": {},
   "outputs": [
    {
     "data": {
      "image/png": "[encoded data removed]",
      "text/plain": [
       "<Figure size 432x288 with 1 Axes>"
      ]
     },
     "metadata": {
      "needs_background": "light"
     },
     "output_type": "display_data"
    }
   ],
   "source": [
    "#we can combine all the tumor volume data from all 4 drug regiment above INTO a list\n",
    "#and use that data to do a box plot.\n",
    "data = [Capomulin_tumor_volume, Ramicane_tumor_volume, Infubinol_tumor_volume, Ceftamin_tumor_volume]\n",
    "\n",
    "#lets do a subplots, then boxplot the data:\n",
    "green_diamond = dict(markerfacecolor='r', marker='d')\n",
    "fig1, ax1 = plt.subplots()\n",
    "ax1.set_title('Final Tumor Volume for Each Mouse')\n",
    "ax1.set_ylabel('Tumor Volume')\n",
    "plt.xticks([1,2,3,4],drug_name)\n",
    "ax1.boxplot(data,flierprops=green_diamond)\n",
    "plt.show()\n"
   ]
  },
  {
   "cell_type": "code",
   "execution_count": 20,
   "metadata": {},
   "outputs": [],
   "source": [
    "# to select all mice that was treated with Capomulin:\n",
    "capomulin_mouse = total_data_df.loc[(total_data_df[\"Drug Regimen\"]==\"Capomulin\"),:]\n",
    "\n",
    "#then we can pick just 1 mouse\n",
    "capomulin_mouse = capomulin_mouse.loc[(capomulin_mouse[\"Mouse ID\"]==\"i557\"),:]"
   ]
  },
  {
   "cell_type": "code",
   "execution_count": 21,
   "metadata": {},
   "outputs": [
    {
     "data": {
      "text/plain": [
       "Text(0, 0.5, 'Tumor Volume')"
      ]
     },
     "execution_count": 21,
     "metadata": {},
     "output_type": "execute_result"
    },
    {
     "data": {
      "image/png": "[encoded data removed]",
      "text/plain": [
       "<Figure size 432x288 with 1 Axes>"
      ]
     },
     "metadata": {
      "needs_background": "light"
     },
     "output_type": "display_data"
    }
   ],
   "source": [
    "# we can use matplotlib to do a lineplot:\n",
    "mouse_handle, = plt.plot(capomulin_mouse[\"Timepoint\"], capomulin_mouse[\"Tumor Volume (mm3)\"], marker ='o', color='red', label=\"Mouse i557 Tumor Volume\")\n",
    "plt.xlabel(\"Timepoint\")\n",
    "plt.ylabel(\"Tumor Volume\")"
   ]
  },
  {
   "cell_type": "code",
   "execution_count": 22,
   "metadata": {},
   "outputs": [
    {
     "data": {
      "image/png": "[encoded data removed]",
      "text/plain": [
       "<Figure size 432x288 with 1 Axes>"
      ]
     },
     "metadata": {
      "needs_background": "light"
     },
     "output_type": "display_data"
    }
   ],
   "source": [
    "# now we have to do a scatterplot: mouse weight vs average tumor volume for Capomulin\n",
    "# get data:\n",
    "capomulin_mice = total_data_df.loc[(total_data_df[\"Drug Regimen\"]==\"Capomulin\"),:]\n",
    "mouse_weight = capomulin_mice.groupby(capomulin_mice[\"Mouse ID\"])[\"Weight (g)\"].mean()\n",
    "tumor_volume = capomulin_mice.groupby(capomulin_mice[\"Mouse ID\"])[\"Tumor Volume (mm3)\"].mean()\n",
    "\n",
    "# Create Scatter Plot with values calculated above\n",
    "plt.scatter(mouse_weight,tumor_volume)\n",
    "plt.xlabel(\"Weight of Mouse in Gram\")\n",
    "plt.ylabel(\"Tumor Volume\")\n",
    "plt.title(\"Mouse Weight VS Average Tumor Volume\")\n",
    "plt.xticks(mouse_weight)\n",
    "plt.show()"
   ]
  },
  {
   "cell_type": "code",
   "execution_count": 23,
   "metadata": {},
   "outputs": [
    {
     "data": {
      "image/png": "[encoded data removed]",
      "text/plain": [
       "<Figure size 432x288 with 1 Axes>"
      ]
     },
     "metadata": {
      "needs_background": "light"
     },
     "output_type": "display_data"
    },
    {
     "name": "stdout",
     "output_type": "stream",
     "text": [
      "The correlation between weight and tumor value is 0.84\n"
     ]
    }
   ],
   "source": [
    "# to perform correlation coefficient and linear regression model between \n",
    "#mouse weight and average tumor volume for the Capomulin treatment:\n",
    "\n",
    "# we can use the data from previous scatterplot: mouse_weight, and tumor_volume\n",
    "\n",
    "# Perform a linear regression on mouse weight vs tumor volume\n",
    "slope, int, r, p, std_err = st.linregress(mouse_weight, tumor_volume)\n",
    "      \n",
    "# Create equation of line to calculate the weight\n",
    "fit = slope * mouse_weight + int\n",
    "\n",
    "# Plot the linear model on top of scatter plot \n",
    "plt.scatter(mouse_weight,tumor_volume)\n",
    "plt.xlabel(\"Weight of Mouse\")\n",
    "plt.ylabel(\"Tumor Volume\")\n",
    "plt.plot(mouse_weight,fit,\"--\")\n",
    "plt.xticks(mouse_weight)\n",
    "plt.show()\n",
    "\n",
    "# Caculate correlation coefficient\n",
    "corr = round(st.pearsonr(mouse_weight,tumor_volume)[0],2)\n",
    "print(f'The correlation between weight and tumor value is {corr}')"
   ]
  },
  {
   "cell_type": "code",
   "execution_count": null,
   "metadata": {},
   "outputs": [],
   "source": []
  },
  {
   "cell_type": "code",
   "execution_count": null,
   "metadata": {},
   "outputs": [],
   "source": []
  }
 ],
 "metadata": {
  "kernelspec": {
   "display_name": "Python 3",
   "language": "python",
   "name": "python3"
  },
  "language_info": {
   "codemirror_mode": {
    "name": "ipython",
    "version": 3
   },
   "file_extension": ".py",
   "mimetype": "text/x-python",
   "name": "python",
   "nbconvert_exporter": "python",
   "pygments_lexer": "ipython3",
   "version": "3.7.6"
  }
 },
 "nbformat": 4,
 "nbformat_minor": 4
}
